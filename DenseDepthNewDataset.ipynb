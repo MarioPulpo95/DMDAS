{
  "cells": [
    {
      "cell_type": "markdown",
      "metadata": {
        "id": "view-in-github",
        "colab_type": "text"
      },
      "source": [
        "<a href=\"https://colab.research.google.com/github/MarioPulpo95/DMDAS/blob/main/DenseDepthNewDataset.ipynb\" target=\"_parent\"><img src=\"https://colab.research.google.com/assets/colab-badge.svg\" alt=\"Open In Colab\"/></a>"
      ]
    },
    {
      "cell_type": "code",
      "execution_count": null,
      "metadata": {
        "id": "ahkR4C5dEnR0",
        "vscode": {
          "languageId": "python"
        }
      },
      "outputs": [],
      "source": [
        "!git clone https://github.com/Nunzio03/DenseDepth_eval01"
      ]
    },
    {
      "cell_type": "code",
      "execution_count": null,
      "metadata": {
        "id": "fFQgwMlNExak",
        "vscode": {
          "languageId": "python"
        }
      },
      "outputs": [],
      "source": [
        "!wget https://s3-eu-west-1.amazonaws.com/densedepth/kitti.h5 -O ./DenseDepth_eval01/kitti.h5"
      ]
    },
    {
      "cell_type": "code",
      "source": [
        "import os\n",
        "import glob\n",
        "import argparse\n",
        "import matplotlib\n",
        "\n",
        "# Keras / TensorFlow\n",
        "os.environ['TF_CPP_MIN_LOG_LEVEL'] = '5'\n",
        "from keras.models import load_model\n",
        "from DenseDepth_eval01.layers import BilinearUpSampling2D\n",
        "from tensorflow.keras.layers import Layer, InputSpec\n",
        "from DenseDepth_eval01.utils import predict, load_images, display_images\n",
        "from matplotlib import pyplot as plt\n",
        "from DenseDepth_eval01.validation_metrics import mean_absolute_error, root_mean_squared_error, relative_absolute_error, relative_squared_error, delta1, f1_score, precision_recall, accuracy, completeness_accuracy,ssim, intersection_over_union, normalized_median_error, gradient_error, chamfer_distance, hausdorff_distance, mean_squared_error\n",
        "from scipy.ndimage import zoom\n",
        "import numpy as np\n",
        "import cv2\n",
        "\n",
        "'''# Argument Parser\n",
        "parser = argparse.ArgumentParser(description='High Quality Monocular Depth Estimation via Transfer Learning')\n",
        "#parser.add_argument('--model', default='nyu.h5', type=str, help='Trained Keras model file.')\n",
        "parser.add_argument('--model', default='kitti.h5', type=str, help='Trained Keras model file.')\n",
        "#parser.add_argument('--input', default='examples/*.png', type=str, help='Input filename or folder.')\n",
        "parser.add_argument('--input', default='miniset/*.png', type=str, help='Input filename or folder.')\n",
        "parser.add_argument('--gtinputs', default='miniset/groundtruth/*.png', type=str, help='Input filename or folder.')\n",
        "args = parser.parse_args()'''\n",
        "\n",
        "# Custom object needed for inference and training\n",
        "custom_objects = {'BilinearUpSampling2D': BilinearUpSampling2D, 'depth_loss_function': None}\n",
        "\n",
        "print('Loading model...')\n",
        "\n",
        "# Load model into GPU / CPU\n",
        "model = load_model('DenseDepth_eval01/kitti.h5', custom_objects=custom_objects, compile=False)\n",
        "\n",
        "print('\\nModel loaded ({0}).'.format('DenseDepth_eval01/kitti.h5'))\n",
        "\n",
        "# Input images\n",
        "inputs = load_images( glob.glob('DenseDepth_eval01/miniset/*.png') )\n",
        "print('\\nLoaded ({0}) images of size {1}.'.format(inputs.shape[0], inputs.shape[1:]))\n",
        "\n",
        "# Compute results\n",
        "outputs = predict(model, inputs)\n",
        "#print('Outputs:{}'.format(outputs))\n",
        "\n",
        "gtinputs = load_images(glob.glob('DenseDepth_eval01/miniset/groundtruth/*.png'))\n",
        "\n",
        "#matplotlib problem on ubuntu terminal fix\n",
        "#matplotlib.use('TkAgg')   \n",
        "\n",
        "# zomm output images to compute metrics because inputs and outputs have different dimensions\n",
        "outputs = zoom(outputs, (1, 2, 2, 1))\n",
        "#gtinputs = np.expand_dims(gtinputs, axis=3)\n",
        "#gtinputs = np.repeat(gtinputs, 3, axis=3)\n",
        "outputs = np.squeeze(outputs, axis=-1)\n",
        "\n",
        "print(outputs.shape)  # predizione  # 1 canale\n",
        "print(gtinputs.shape)  # groundtruth # 1 canali \n",
        "\n",
        "#print(outputs)  # predizione  # 1 canale\n",
        "#print(gtinputs)  # groundtruth # 1 canali \n",
        "\n",
        "# Controllo che output e groundtruth abbiano la stessa scala\n",
        "#print('outputs type:{}'.format(type(outputs)))  # predizione\n",
        "#print('gtinputs type:{}'.format(type(gtinputs))) # groundtruth"
      ],
      "metadata": {
        "id": "W6KydaCDjlti"
      },
      "execution_count": null,
      "outputs": []
    },
    {
      "cell_type": "code",
      "source": [
        "plt.imshow(outputs[0], cmap='hot')\n",
        "plt.show()\n",
        "print(outputs[0])"
      ],
      "metadata": {
        "id": "Kfagj4VRlejO"
      },
      "execution_count": null,
      "outputs": []
    },
    {
      "cell_type": "code",
      "execution_count": null,
      "metadata": {
        "id": "Ra7GEtQBHUMS",
        "vscode": {
          "languageId": "python"
        }
      },
      "outputs": [],
      "source": [
        "plt.imshow(gtinputs[0], cmap='hot')\n",
        "plt.show()\n",
        "print(gtinputs[0])"
      ]
    },
    {
      "cell_type": "code",
      "source": [
        "for img_out, img_gt in zip(outputs, gtinputs):\n",
        "  MAE = mean_absolute_error(img_out, img_gt)\n",
        "  MSE = mean_squared_error(img_out, img_gt)\n",
        "  SSIM = ssim(img_out, img_gt)\n",
        "  RMSE = root_mean_squared_error(img_out, img_gt)\n",
        "  RAE = relative_absolute_error(img_out, img_gt)\n",
        "  RSE = relative_squared_error(img_out, img_gt)\n",
        "  GRADIENT = gradient_error(img_out, img_gt)\n",
        "  NME = normalized_median_error(img_out, img_gt)\n",
        "  ACCURACY = accuracy(img_out, img_gt)\n",
        "  print('Mean Absolute Error:', MAE)\n",
        "  print('Structural Similarity Index:', SSIM)\n",
        "  print('Mean Squared Error:', MSE)\n",
        "  print('Relative Absolute Error:', RAE)\n",
        "  print('Relative Squared Error:', RSE)\n",
        "  print('Root Mean Squared Error:', RMSE)\n",
        "  print('Normalized Median Error:', NME)\n",
        "  print('Gradient:', GRADIENT)"
      ],
      "metadata": {
        "id": "ndeKlD4QnxvZ"
      },
      "execution_count": null,
      "outputs": []
    }
  ],
  "metadata": {
    "accelerator": "GPU",
    "colab": {
      "name": "DenseDepth",
      "provenance": [],
      "include_colab_link": true
    },
    "kernelspec": {
      "display_name": "Python 3",
      "name": "python3"
    }
  },
  "nbformat": 4,
  "nbformat_minor": 0
}